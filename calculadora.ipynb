{
  "nbformat": 4,
  "nbformat_minor": 0,
  "metadata": {
    "colab": {
      "provenance": [],
      "authorship_tag": "ABX9TyMHaBlTXn6ROzGNhldqAyc8",
      "include_colab_link": true
    },
    "kernelspec": {
      "name": "python3",
      "display_name": "Python 3"
    },
    "language_info": {
      "name": "python"
    }
  },
  "cells": [
    {
      "cell_type": "markdown",
      "metadata": {
        "id": "view-in-github",
        "colab_type": "text"
      },
      "source": [
        "<a href=\"https://colab.research.google.com/github/BHAMG-debug/Talent-cloud-TC15/blob/main/calculadora.ipynb\" target=\"_parent\"><img src=\"https://colab.research.google.com/assets/colab-badge.svg\" alt=\"Open In Colab\"/></a>"
      ]
    },
    {
      "cell_type": "code",
      "execution_count": null,
      "metadata": {
        "colab": {
          "base_uri": "https://localhost:8080/"
        },
        "id": "iJjn5W-MU3OI",
        "outputId": "5a298f5c-5106-4e06-c656-3eb5dfb4c9b1"
      },
      "outputs": [
        {
          "output_type": "stream",
          "name": "stdout",
          "text": [
            "0. Sair\n",
            "1. Somar\n",
            "2. Subtrair\n",
            "3. Multiplicação\n",
            "4. Divisão \n",
            "Opção: 1\n",
            "Primeiro numero: 3\n",
            "Segundo numero: 3\n",
            "Soma:  6.0\n",
            "0. Sair\n",
            "1. Somar\n",
            "2. Subtrair\n",
            "3. Multiplicação\n",
            "4. Divisão \n"
          ]
        }
      ],
      "source": [
        "def soma():\n",
        "    x = float(input(\"Primeiro numero: \"))\n",
        "    y = float(input(\"Segundo numero: \"))\n",
        "    print(\"Soma: \",x+y)\n",
        "\n",
        "def subtracao():\n",
        "    x = float(input(\"Primeiro numero: \"))\n",
        "    y = float(input(\"Segundo numero: \"))\n",
        "    print(\"Subtracao: \",x-y)\n",
        "\n",
        "def multiplicacao():\n",
        "    x = float(input(\"Primeiro numero: \"))\n",
        "    y = float(input(\"Segundo numero: \"))\n",
        "    print(\"Multiplicacao: \",x*y)\n",
        "\n",
        "def divisao():\n",
        "    x = float(input(\"Primeiro numero: \"))\n",
        "    y = float(input(\"Segundo numero: \"))\n",
        "    print(\"Divisao: \",x/y)\n",
        "\n",
        "opcao=1\n",
        "\n",
        "while opcao:\n",
        "    print(\"0. Sair\")\n",
        "    print(\"1. Somar\")\n",
        "    print(\"2. Subtrair\")\n",
        "    print(\"3. Multiplicação\")\n",
        "    print(\"4. Divisão \")\n",
        "\n",
        "    opcao = int(input(\"Opção: \"))\n",
        "\n",
        "    if(opcao==1):\n",
        "        soma()\n",
        "    if(opcao==2):\n",
        "        subtracao()\n",
        "    if(opcao==3):\n",
        "        multiplicacao()\n",
        "    if(opcao==4):\n",
        "        divisao()"
      ]
    }
  ]
}